{
 "cells": [
  {
   "cell_type": "code",
   "execution_count": 101,
   "metadata": {},
   "outputs": [],
   "source": [
    "import numpy as np\n",
    "import pandas as pd\n",
    "import matplotlib.pyplot as plt\n",
    "import scipy\n",
    "from star import AlphaSTARCalculator, ProtonSTARCalculator, ProtonMaterials\n",
    "import scipy.interpolate\n",
    "\n",
    "material = ProtonMaterials.SILICON\n",
    "calculator = ProtonSTARCalculator(material)\n",
    "alpha_calculator = AlphaSTARCalculator(material)\n",
    "\n",
    "density_of_silicon_specific = 2.33 #g/cm3"
   ]
  },
  {
   "cell_type": "code",
   "execution_count": null,
   "metadata": {},
   "outputs": [],
   "source": []
  },
  {
   "cell_type": "markdown",
   "metadata": {},
   "source": [
    "## Generating energy deposition profiles"
   ]
  },
  {
   "cell_type": "code",
   "execution_count": 16,
   "metadata": {},
   "outputs": [],
   "source": [
    "def calc_energy_from_rigidity_in_MeV(rigidity_in_GV,Z=1,A=1):\n",
    "    T0 = A * 0.938\n",
    "    energy_in_GeV = -T0 + np.sqrt(T0**2 + ((rigidity_in_GV * Z / A)**2))\n",
    "    return energy_in_GeV * 1000.0"
   ]
  },
  {
   "cell_type": "code",
   "execution_count": 17,
   "metadata": {},
   "outputs": [],
   "source": [
    "def rndm_power_law(a, b, lamb, size=1):\n",
    "    g=lamb + 1\n",
    "    \"\"\"Power-law gen for pdf(x)\\propto x^{g-1} for a<=x<=b\"\"\"\n",
    "    r = np.random.random(size=size)\n",
    "    ag, bg = a**g, b**g\n",
    "    return (ag + (bg - ag)*r)**(1./g)"
   ]
  },
  {
   "cell_type": "code",
   "execution_count": 18,
   "metadata": {},
   "outputs": [],
   "source": [
    "def uniform_to_length(uniform_array,thickness):\n",
    "    return np.sqrt(thickness**2 / (1.0 - uniform_array))\n",
    "\n",
    "def length_generator(n_particles,thickness):\n",
    "    uniform_array = np.random.uniform(0,1,n_particles)\n",
    "    array_of_lengths = uniform_to_length(uniform_array,thickness)\n",
    "    return array_of_lengths"
   ]
  },
  {
   "cell_type": "code",
   "execution_count": 102,
   "metadata": {},
   "outputs": [],
   "source": [
    "from CosRayModifiedISO import CosRayModifiedISO\n",
    "import datetime as dt\n",
    "\n",
    "datetimeToUse = dt.datetime(\n",
    "  year = 2001, #year = 2001,\n",
    "  month = 10,\n",
    "  day = 27,\n",
    "  hour = 0,\n",
    "  minute = 10,\n",
    "  second = 35\n",
    "  )\n",
    "\n",
    "n_cos_ray_protons = 500000\n",
    "n_cos_ray_alphas = 500000\n",
    "  \n",
    "def get_monte_carlo_cos_ray_values(datetimeToUse, n_cos_rays, atomicNumber=1):\n",
    "    cos_ray_specs_DF = CosRayModifiedISO.getSpectrumUsingTimestamp(datetimeToUse,atomicNumber=atomicNumber)\n",
    "\n",
    "    integral_flux_rigidities = (cos_ray_specs_DF[\"Rigidity (GV/n)\"].iloc[:-1] + cos_ray_specs_DF[\"Rigidity (GV/n)\"].iloc[1:]).iloc[:-1]/2\n",
    "    integral_flux = np.cumsum(cos_ray_specs_DF[\"d_Flux / d_R (cm-2 s-1 sr-1 (GV/n)-1)\"].iloc[:-1] * np.diff(cos_ray_specs_DF[\"Rigidity (GV/n)\"]))\n",
    "  #plt.xscale(\"log\")\n",
    "  #plt.yscale(\"log\")\n",
    "\n",
    "    integral_flux_rigidities = np.concatenate([[0.0],integral_flux_rigidities])\n",
    "    integral_flux = np.concatenate([[0.0],integral_flux])\n",
    "\n",
    "    total_fluence = max(integral_flux)\n",
    "\n",
    "    inverse_integral_flux_interp = scipy.interpolate.interp1d(integral_flux/total_fluence, integral_flux_rigidities,\n",
    "                                                          kind=\"linear\",\n",
    "                                                          bounds_error=False,fill_value=np.nan)\n",
    "\n",
    "    return inverse_integral_flux_interp(np.random.random(n_cos_rays))\n",
    "\n"
   ]
  },
  {
   "cell_type": "code",
   "execution_count": 103,
   "metadata": {},
   "outputs": [
    {
     "data": {
      "image/png": "[encoded data removed]",
      "text/plain": [
       "<Figure size 640x480 with 1 Axes>"
      ]
     },
     "metadata": {},
     "output_type": "display_data"
    }
   ],
   "source": [
    "cos_ray_rigidity_vals = get_monte_carlo_cos_ray_values(datetimeToUse, n_cos_ray_protons)\n",
    "plt.hist(cos_ray_rigidity_vals,bins=10000)\n",
    "\n",
    "\n",
    "alpha_cos_ray_rigidity_vals = get_monte_carlo_cos_ray_values(datetimeToUse, n_cos_ray_alphas, atomicNumber=2)\n",
    "plt.hist(alpha_cos_ray_rigidity_vals,bins=10000)\n",
    "\n",
    "plt.xscale(\"log\")\n",
    "plt.yscale(\"log\")"
   ]
  },
  {
   "cell_type": "code",
   "execution_count": 99,
   "metadata": {},
   "outputs": [],
   "source": [
    "#n_particles_specific = 1_000_000\n",
    "det_thickness_cm_specific = 30 / 10_000 #15 / 10_000\n",
    "#power_law_index = 5\n",
    "\n",
    "def calculate_MC_DF(array_of_rigidities_in_GV, det_thickness_cm, density_of_silicon, particle=\"proton\"): #, use_uniform_STP=False):\n",
    "    output_DF = pd.DataFrame()\n",
    "\n",
    "    # if use_uniform_STP is True:\n",
    "    #     output_DF[\"stopping_power_vals\"] = np.random.random(size=n_particles)\n",
    "    # else:\n",
    "    #     output_DF[\"energy_vals\"] = calc_energy_from_rigidity_in_MeV(rndm_power_law(1, 1000, lamb=-power_law_index, size=n_particles))\n",
    "    #     output_DF[\"stopping_power_vals\"] = calculator.calculate_total_stopping_powers(output_DF[\"energy_vals\"]) * density_of_silicon\n",
    "    \n",
    "    if particle == \"proton\":\n",
    "        output_DF[\"energy_vals\"] = calc_energy_from_rigidity_in_MeV(array_of_rigidities_in_GV)\n",
    "        output_DF[\"stopping_power_vals\"] = calculator.calculate_total_stopping_powers(output_DF[\"energy_vals\"]) * density_of_silicon\n",
    "    elif particle == \"alpha\":\n",
    "        output_DF[\"energy_vals\"] = calc_energy_from_rigidity_in_MeV(array_of_rigidities_in_GV,Z=2,A=4)\n",
    "        output_DF[\"stopping_power_vals\"] = alpha_calculator.calculate_total_stopping_powers(output_DF[\"energy_vals\"]) * density_of_silicon\n",
    "\n",
    "    output_DF[\"length_vals\"] = length_generator(len(array_of_rigidities_in_GV),det_thickness_cm)\n",
    "\n",
    "    output_DF[\"tot_deposit_vals_MeV\"] = output_DF[\"stopping_power_vals\"] * output_DF[\"length_vals\"]\n",
    "    output_DF[\"tot_deposit_vals_keV\"] = output_DF[\"tot_deposit_vals_MeV\"] * 1000\n",
    "\n",
    "    return output_DF\n",
    "\n",
    "output_DF = calculate_MC_DF(cos_ray_rigidity_vals, det_thickness_cm_specific, density_of_silicon_specific)"
   ]
  },
  {
   "cell_type": "code",
   "execution_count": 67,
   "metadata": {},
   "outputs": [
    {
     "data": {
      "text/html": [
       "<div>\n",
       "<style scoped>\n",
       "    .dataframe tbody tr th:only-of-type {\n",
       "        vertical-align: middle;\n",
       "    }\n",
       "\n",
       "    .dataframe tbody tr th {\n",
       "        vertical-align: top;\n",
       "    }\n",
       "\n",
       "    .dataframe thead th {\n",
       "        text-align: right;\n",
       "    }\n",
       "</style>\n",
       "<table border=\"1\" class=\"dataframe\">\n",
       "  <thead>\n",
       "    <tr style=\"text-align: right;\">\n",
       "      <th></th>\n",
       "      <th>energy_vals</th>\n",
       "      <th>stopping_power_vals</th>\n",
       "      <th>length_vals</th>\n",
       "      <th>tot_deposit_vals_MeV</th>\n",
       "      <th>tot_deposit_vals_keV</th>\n",
       "    </tr>\n",
       "  </thead>\n",
       "  <tbody>\n",
       "    <tr>\n",
       "      <th>0</th>\n",
       "      <td>195.287128</td>\n",
       "      <td>8.581454</td>\n",
       "      <td>0.003842</td>\n",
       "      <td>0.032968</td>\n",
       "      <td>32.967993</td>\n",
       "    </tr>\n",
       "    <tr>\n",
       "      <th>1</th>\n",
       "      <td>574.033576</td>\n",
       "      <td>4.923207</td>\n",
       "      <td>0.009781</td>\n",
       "      <td>0.048155</td>\n",
       "      <td>48.154561</td>\n",
       "    </tr>\n",
       "    <tr>\n",
       "      <th>2</th>\n",
       "      <td>638.567718</td>\n",
       "      <td>4.740505</td>\n",
       "      <td>0.003608</td>\n",
       "      <td>0.017104</td>\n",
       "      <td>17.104217</td>\n",
       "    </tr>\n",
       "    <tr>\n",
       "      <th>3</th>\n",
       "      <td>1990.185761</td>\n",
       "      <td>3.881484</td>\n",
       "      <td>0.004742</td>\n",
       "      <td>0.018408</td>\n",
       "      <td>18.407545</td>\n",
       "    </tr>\n",
       "    <tr>\n",
       "      <th>4</th>\n",
       "      <td>2836.499056</td>\n",
       "      <td>3.879087</td>\n",
       "      <td>0.006305</td>\n",
       "      <td>0.024458</td>\n",
       "      <td>24.457732</td>\n",
       "    </tr>\n",
       "    <tr>\n",
       "      <th>...</th>\n",
       "      <td>...</td>\n",
       "      <td>...</td>\n",
       "      <td>...</td>\n",
       "      <td>...</td>\n",
       "      <td>...</td>\n",
       "    </tr>\n",
       "    <tr>\n",
       "      <th>499995</th>\n",
       "      <td>26593.463233</td>\n",
       "      <td>4.617150</td>\n",
       "      <td>0.003934</td>\n",
       "      <td>0.018166</td>\n",
       "      <td>18.165715</td>\n",
       "    </tr>\n",
       "    <tr>\n",
       "      <th>499996</th>\n",
       "      <td>13681.968289</td>\n",
       "      <td>4.386277</td>\n",
       "      <td>0.005443</td>\n",
       "      <td>0.023875</td>\n",
       "      <td>23.874577</td>\n",
       "    </tr>\n",
       "    <tr>\n",
       "      <th>499997</th>\n",
       "      <td>767.729193</td>\n",
       "      <td>4.476544</td>\n",
       "      <td>0.003385</td>\n",
       "      <td>0.015153</td>\n",
       "      <td>15.153038</td>\n",
       "    </tr>\n",
       "    <tr>\n",
       "      <th>499998</th>\n",
       "      <td>765.376952</td>\n",
       "      <td>4.480441</td>\n",
       "      <td>0.004192</td>\n",
       "      <td>0.018781</td>\n",
       "      <td>18.781259</td>\n",
       "    </tr>\n",
       "    <tr>\n",
       "      <th>499999</th>\n",
       "      <td>448.971085</td>\n",
       "      <td>5.441085</td>\n",
       "      <td>0.003166</td>\n",
       "      <td>0.017228</td>\n",
       "      <td>17.228114</td>\n",
       "    </tr>\n",
       "  </tbody>\n",
       "</table>\n",
       "<p>500000 rows × 5 columns</p>\n",
       "</div>"
      ],
      "text/plain": [
       "         energy_vals  stopping_power_vals  length_vals  tot_deposit_vals_MeV  \\\n",
       "0         195.287128             8.581454     0.003842              0.032968   \n",
       "1         574.033576             4.923207     0.009781              0.048155   \n",
       "2         638.567718             4.740505     0.003608              0.017104   \n",
       "3        1990.185761             3.881484     0.004742              0.018408   \n",
       "4        2836.499056             3.879087     0.006305              0.024458   \n",
       "...              ...                  ...          ...                   ...   \n",
       "499995  26593.463233             4.617150     0.003934              0.018166   \n",
       "499996  13681.968289             4.386277     0.005443              0.023875   \n",
       "499997    767.729193             4.476544     0.003385              0.015153   \n",
       "499998    765.376952             4.480441     0.004192              0.018781   \n",
       "499999    448.971085             5.441085     0.003166              0.017228   \n",
       "\n",
       "        tot_deposit_vals_keV  \n",
       "0                  32.967993  \n",
       "1                  48.154561  \n",
       "2                  17.104217  \n",
       "3                  18.407545  \n",
       "4                  24.457732  \n",
       "...                      ...  \n",
       "499995             18.165715  \n",
       "499996             23.874577  \n",
       "499997             15.153038  \n",
       "499998             18.781259  \n",
       "499999             17.228114  \n",
       "\n",
       "[500000 rows x 5 columns]"
      ]
     },
     "execution_count": 67,
     "metadata": {},
     "output_type": "execute_result"
    }
   ],
   "source": [
    "output_DF"
   ]
  },
  {
   "cell_type": "code",
   "execution_count": 77,
   "metadata": {},
   "outputs": [
    {
     "data": {
      "text/plain": [
       "<matplotlib.lines.Line2D at 0x7f5edeb62410>"
      ]
     },
     "execution_count": 77,
     "metadata": {},
     "output_type": "execute_result"
    },
    {
     "data": {
      "image/png": "[encoded data removed]",
      "text/plain": [
       "<Figure size 640x480 with 1 Axes>"
      ]
     },
     "metadata": {},
     "output_type": "display_data"
    }
   ],
   "source": [
    "output_DF[\"length_vals\"].hist(bins=np.linspace(0,det_thickness_cm_specific*5,100))\n",
    "plt.axvline(det_thickness_cm_specific)"
   ]
  },
  {
   "cell_type": "code",
   "execution_count": 68,
   "metadata": {},
   "outputs": [
    {
     "data": {
      "image/png": "[encoded data removed]",
      "text/plain": [
       "<Figure size 640x480 with 1 Axes>"
      ]
     },
     "metadata": {},
     "output_type": "display_data"
    },
    {
     "data": {
      "image/png": "[encoded data removed]",
      "text/plain": [
       "<Figure size 640x480 with 1 Axes>"
      ]
     },
     "metadata": {},
     "output_type": "display_data"
    }
   ],
   "source": [
    "output_DF[\"tot_deposit_vals_keV\"].hist(bins=100)\n",
    "plt.yscale(\"log\")\n",
    "plt.figure()\n",
    "output_DF[\"tot_deposit_vals_keV\"].hist(bins=np.linspace(0,15,100))\n",
    "plt.xscale(\"log\")\n",
    "plt.yscale(\"log\")"
   ]
  },
  {
   "cell_type": "code",
   "execution_count": 93,
   "metadata": {},
   "outputs": [
    {
     "data": {
      "text/plain": [
       "['__class__',\n",
       " '__delattr__',\n",
       " '__dict__',\n",
       " '__dir__',\n",
       " '__doc__',\n",
       " '__eq__',\n",
       " '__format__',\n",
       " '__ge__',\n",
       " '__getattribute__',\n",
       " '__gt__',\n",
       " '__hash__',\n",
       " '__init__',\n",
       " '__init_subclass__',\n",
       " '__le__',\n",
       " '__lt__',\n",
       " '__module__',\n",
       " '__ne__',\n",
       " '__new__',\n",
       " '__reduce__',\n",
       " '__reduce_ex__',\n",
       " '__repr__',\n",
       " '__setattr__',\n",
       " '__sizeof__',\n",
       " '__str__',\n",
       " '__subclasshook__',\n",
       " '__weakref__',\n",
       " 'calculate_csda_ranges',\n",
       " 'calculate_detour_factors',\n",
       " 'calculate_electronic_stopping_powers',\n",
       " 'calculate_nuclear_stopping_powers',\n",
       " 'calculate_projected_range',\n",
       " 'calculate_table',\n",
       " 'calculate_total_stopping_powers',\n",
       " 'default_energy',\n",
       " 'splines']"
      ]
     },
     "execution_count": 93,
     "metadata": {},
     "output_type": "execute_result"
    }
   ],
   "source": [
    "dir(calculator)"
   ]
  },
  {
   "cell_type": "code",
   "execution_count": 95,
   "metadata": {},
   "outputs": [
    {
     "data": {
      "text/plain": [
       "np.float64(11.642572358430002)"
      ]
     },
     "execution_count": 95,
     "metadata": {},
     "output_type": "execute_result"
    }
   ],
   "source": [
    "calculator.calculate_total_stopping_powers(2000) * density_of_silicon_specific * det_thickness_cm_specific * 1000.0"
   ]
  },
  {
   "cell_type": "code",
   "execution_count": 82,
   "metadata": {},
   "outputs": [
    {
     "data": {
      "image/png": "[encoded data removed]",
      "text/plain": [
       "<Figure size 640x480 with 1 Axes>"
      ]
     },
     "metadata": {},
     "output_type": "display_data"
    }
   ],
   "source": [
    "for det_thick in [15e-4, 30e-4, 45e-4]:\n",
    "    calculate_MC_DF(cos_ray_rigidity_vals, det_thick, density_of_silicon_specific)[\"tot_deposit_vals_keV\"].hist(bins=np.linspace(0,15,100))\n",
    "    plt.axvline(calculator.calculate_total_stopping_powers(2000) * density_of_silicon_specific * det_thick* 1000.0)\n",
    "\n",
    "plt.xscale(\"log\")\n",
    "plt.yscale(\"log\")"
   ]
  },
  {
   "cell_type": "markdown",
   "metadata": {},
   "source": [
    "## reconstructing spectra"
   ]
  },
  {
   "cell_type": "code",
   "execution_count": 25,
   "metadata": {},
   "outputs": [],
   "source": [
    "reverse_stp_function = scipy.interpolate.interp1d(calculator.calculate_total_stopping_powers(np.linspace(1,2_000,10_000)) * density_of_silicon_specific,\n",
    "                                                  np.linspace(1,2_000,10_000),bounds_error=False,fill_value=(0.0,1.0))"
   ]
  },
  {
   "cell_type": "code",
   "execution_count": 26,
   "metadata": {},
   "outputs": [],
   "source": [
    "def reverse_dist_to_stp(distribution_of_energy_deps,det_thickness_cm_specific,\n",
    "                        edep_vals_to_use=None,edep_fluxes_to_use=None,\n",
    "                        bins_to_use=10_000):\n",
    "\n",
    "    if edep_fluxes_to_use is None:\n",
    "        backwards_vals, backwards_edges = np.histogram(distribution_of_energy_deps,\n",
    "                                                    bins=bins_to_use,density=True)\n",
    "\n",
    "        backwards_edges_mids = (backwards_edges[:-1] + backwards_edges[1:]) / 2\n",
    "    else:\n",
    "        backwards_edges_mids = edep_vals_to_use\n",
    "        backwards_vals = edep_fluxes_to_use\n",
    "\n",
    "    differential = np.diff(0.5 * (backwards_edges_mids**3) * det_thickness_cm_specific * backwards_vals) / np.diff(backwards_edges_mids)\n",
    "\n",
    "    backwards_edges_mids_super = (backwards_edges_mids[:-1] + backwards_edges_mids[1:])/2\n",
    "\n",
    "    output_vals = differential / (backwards_edges_mids_super**2)\n",
    "\n",
    "    return backwards_edges_mids_super, output_vals"
   ]
  },
  {
   "cell_type": "code",
   "execution_count": 27,
   "metadata": {},
   "outputs": [],
   "source": [
    "def reverse_dist_to_Eprim(distribution_of_energy_deps,det_thickness_cm,\n",
    "                          edep_vals_to_use=None,edep_fluxes_to_use=None,\n",
    "                          bins_to_use=10_000):\n",
    "\n",
    "    specific_bkg_edges, specific_output_vals = reverse_dist_to_stp(distribution_of_energy_deps, det_thickness_cm,\n",
    "                                                                   edep_vals_to_use=edep_vals_to_use,edep_fluxes_to_use=edep_fluxes_to_use,\n",
    "                                                                   bins_to_use=bins_to_use)\n",
    "\n",
    "    stp_power_vals = specific_bkg_edges/det_thickness_cm\n",
    "\n",
    "    prim_energy_values = reverse_stp_function(stp_power_vals)\n",
    "    prim_energy_values_mid = (prim_energy_values[:-1] + prim_energy_values[1:]) / 2\n",
    "\n",
    "    delta_stp_vals = np.diff(stp_power_vals)\n",
    "    delta_prim_energy_vals = np.diff(prim_energy_values)\n",
    "\n",
    "    specific_output_vals_mid = (specific_output_vals[:-1] + specific_output_vals[1:]) / 2\n",
    "\n",
    "    return prim_energy_values_mid, specific_output_vals_mid * np.abs(delta_stp_vals / delta_prim_energy_vals)"
   ]
  },
  {
   "cell_type": "code",
   "execution_count": 28,
   "metadata": {},
   "outputs": [
    {
     "data": {
      "image/png": "[encoded data removed]",
      "text/plain": [
       "<Figure size 640x480 with 1 Axes>"
      ]
     },
     "metadata": {},
     "output_type": "display_data"
    }
   ],
   "source": [
    "output_DF.energy_vals.hist(bins=10000,density=True)\n",
    "plt.yscale(\"log\")\n",
    "plt.xscale(\"log\")"
   ]
  },
  {
   "cell_type": "code",
   "execution_count": 29,
   "metadata": {},
   "outputs": [
    {
     "data": {
      "image/png": "[encoded data removed]",
      "text/plain": [
       "<Figure size 640x480 with 1 Axes>"
      ]
     },
     "metadata": {},
     "output_type": "display_data"
    }
   ],
   "source": [
    "output_DF[\"tot_deposit_vals_MeV\"].hist(bins=np.linspace(1e-3,1e0,1000))\n",
    "output_DF.query(\"energy_vals < 2000\")[\"tot_deposit_vals_MeV\"].hist(bins=np.linspace(1e-3,1e0,1000))\n",
    "output_DF.query(\"energy_vals >= 2000\")[\"tot_deposit_vals_MeV\"].hist(bins=np.linspace(1e-3,1e0,1000))\n",
    "plt.yscale(\"log\")\n",
    "plt.xscale(\"log\")\n",
    "#plt.xlim([1e-3,2e-2])"
   ]
  },
  {
   "cell_type": "code",
   "execution_count": null,
   "metadata": {},
   "outputs": [],
   "source": []
  },
  {
   "cell_type": "code",
   "execution_count": 30,
   "metadata": {},
   "outputs": [
    {
     "name": "stderr",
     "output_type": "stream",
     "text": [
      "/tmp/ipykernel_456/1143382739.py:19: RuntimeWarning: divide by zero encountered in divide\n",
      "  return prim_energy_values_mid, specific_output_vals_mid * np.abs(delta_stp_vals / delta_prim_energy_vals)\n",
      "/tmp/ipykernel_456/1143382739.py:19: RuntimeWarning: invalid value encountered in multiply\n",
      "  return prim_energy_values_mid, specific_output_vals_mid * np.abs(delta_stp_vals / delta_prim_energy_vals)\n"
     ]
    }
   ],
   "source": [
    "reconstructed_E_vals, reconstructed_E_flux = reverse_dist_to_Eprim(output_DF[\"tot_deposit_vals_MeV\"].dropna(),\n",
    "                                                                   det_thickness_cm=det_thickness_cm_specific,\n",
    "                                                                   bins_to_use=np.geomspace(1e-3,1e0,1000))"
   ]
  },
  {
   "cell_type": "code",
   "execution_count": 31,
   "metadata": {},
   "outputs": [
    {
     "data": {
      "image/png": "[encoded data removed]",
      "text/plain": [
       "<Figure size 640x480 with 1 Axes>"
      ]
     },
     "metadata": {},
     "output_type": "display_data"
    }
   ],
   "source": [
    "plt.plot(reconstructed_E_vals, reconstructed_E_flux)\n",
    "plt.xscale(\"log\")\n",
    "plt.yscale(\"log\")\n",
    "\n",
    "output_DF.energy_vals.hist(bins=10000,density=True)\n",
    "plt.yscale(\"log\")\n",
    "plt.xscale(\"log\")"
   ]
  },
  {
   "cell_type": "code",
   "execution_count": null,
   "metadata": {},
   "outputs": [],
   "source": []
  }
 ],
 "metadata": {
  "kernelspec": {
   "display_name": "Python 3",
   "language": "python",
   "name": "python3"
  },
  "language_info": {
   "codemirror_mode": {
    "name": "ipython",
    "version": 3
   },
   "file_extension": ".py",
   "mimetype": "text/x-python",
   "name": "python",
   "nbconvert_exporter": "python",
   "pygments_lexer": "ipython3",
   "version": "3.10.12"
  }
 },
 "nbformat": 4,
 "nbformat_minor": 2
}
